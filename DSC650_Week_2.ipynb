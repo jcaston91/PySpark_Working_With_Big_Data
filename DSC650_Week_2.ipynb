{
 "cells": [
  {
   "cell_type": "code",
   "execution_count": 207,
   "metadata": {},
   "outputs": [],
   "source": [
    "from pyspark.sql import SQLContext\n",
    "sqlContext = SQLContext(sc)\n",
    "import pyspark.sql.functions as f\n",
    "from pyspark.sql.functions import col\n",
    "from pyspark.sql.functions import desc"
   ]
  },
  {
   "cell_type": "markdown",
   "metadata": {},
   "source": [
    "2. Loading Data"
   ]
  },
  {
   "cell_type": "code",
   "execution_count": 120,
   "metadata": {},
   "outputs": [],
   "source": [
    "# a. Load Data and Show Schema\n",
    "textName = sc.textFile(\"D:/school/Masters Data Science/Spring 2020/DSC650_Big Data/baby-names/baby-names/baby-names.csv\")"
   ]
  },
  {
   "cell_type": "code",
   "execution_count": 122,
   "metadata": {},
   "outputs": [
    {
     "data": {
      "text/plain": [
       "['state,sex,year,name,count',\n",
       " 'AK,F,1910,Mary,14',\n",
       " 'AK,F,1910,Annie,12',\n",
       " 'AK,F,1910,Anna,10',\n",
       " 'AK,F,1910,Margaret,8']"
      ]
     },
     "execution_count": 122,
     "metadata": {},
     "output_type": "execute_result"
    }
   ],
   "source": [
    "# a. Load Data and Show Schema\n",
    "textName.take(5)"
   ]
  },
  {
   "cell_type": "code",
   "execution_count": 217,
   "metadata": {},
   "outputs": [],
   "source": [
    "# a. Load Data and Show Schema\n",
    "def Func(lines):\n",
    "    lines = lines.split(\"\\t\")\n",
    "    return lines\n",
    "rddName = textName.map(Func)"
   ]
  },
  {
   "cell_type": "code",
   "execution_count": 95,
   "metadata": {},
   "outputs": [
    {
     "data": {
      "text/plain": [
       "Row(_1='state,sex,year,name,count')"
      ]
     },
     "execution_count": 95,
     "metadata": {},
     "output_type": "execute_result"
    }
   ],
   "source": [
    "# a. Load Data and Show Schema\n",
    "header = df.first()\n",
    "header"
   ]
  },
  {
   "cell_type": "code",
   "execution_count": 96,
   "metadata": {},
   "outputs": [
    {
     "name": "stdout",
     "output_type": "stream",
     "text": [
      "+-------------------------+\n",
      "|state,sex,year,name,count|\n",
      "+-------------------------+\n",
      "|     state,sex,year,na...|\n",
      "|        AK,F,1910,Mary,14|\n",
      "|       AK,F,1910,Annie,12|\n",
      "|        AK,F,1910,Anna,10|\n",
      "|     AK,F,1910,Margaret,8|\n",
      "|        AK,F,1910,Helen,7|\n",
      "|        AK,F,1910,Elsie,6|\n",
      "|         AK,F,1910,Lucy,6|\n",
      "|      AK,F,1910,Dorothy,5|\n",
      "|        AK,F,1911,Mary,12|\n",
      "|     AK,F,1911,Margaret,7|\n",
      "|         AK,F,1911,Ruth,7|\n",
      "|        AK,F,1911,Annie,6|\n",
      "|     AK,F,1911,Elizabe...|\n",
      "|        AK,F,1911,Helen,6|\n",
      "|         AK,F,1912,Mary,9|\n",
      "|        AK,F,1912,Elsie,8|\n",
      "|        AK,F,1912,Agnes,7|\n",
      "|         AK,F,1912,Anna,7|\n",
      "|        AK,F,1912,Helen,7|\n",
      "+-------------------------+\n",
      "only showing top 20 rows\n",
      "\n"
     ]
    }
   ],
   "source": [
    "# a. Load Data and Show Schema\n",
    "data = rddName.filter(lambda row : row != header).toDF(header)\n",
    "data.show()"
   ]
  },
  {
   "cell_type": "code",
   "execution_count": 163,
   "metadata": {},
   "outputs": [
    {
     "name": "stdout",
     "output_type": "stream",
     "text": [
      "root\n",
      " |-- state,sex,year,name,count: string (nullable = true)\n",
      "\n"
     ]
    }
   ],
   "source": [
    "# a. Load Data and Show Schema\n",
    "data.printSchema()"
   ]
  },
  {
   "cell_type": "code",
   "execution_count": 4,
   "metadata": {},
   "outputs": [
    {
     "data": {
      "text/plain": [
       "5933562"
      ]
     },
     "execution_count": 4,
     "metadata": {},
     "output_type": "execute_result"
    }
   ],
   "source": [
    "# b. Filtering and Counting\n",
    "textName.count()"
   ]
  },
  {
   "cell_type": "code",
   "execution_count": 161,
   "metadata": {},
   "outputs": [
    {
     "data": {
      "text/plain": [
       "['AK,M,1910,John,8',\n",
       " 'AK,M,1911,John,15',\n",
       " 'AK,M,1912,John,16',\n",
       " 'AK,M,1913,John,19',\n",
       " 'AK,M,1914,John,17']"
      ]
     },
     "execution_count": 161,
     "metadata": {},
     "output_type": "execute_result"
    }
   ],
   "source": [
    "# b. Filtering and Counting\n",
    "JName = textName.filter(lambda line: \"John\" in line)\n",
    "JName.take(5)"
   ]
  },
  {
   "cell_type": "code",
   "execution_count": 105,
   "metadata": {},
   "outputs": [
    {
     "data": {
      "text/plain": [
       "21785"
      ]
     },
     "execution_count": 105,
     "metadata": {},
     "output_type": "execute_result"
    }
   ],
   "source": [
    "# b. Filtering and Counting\n",
    "JName.count()"
   ]
  },
  {
   "cell_type": "markdown",
   "metadata": {},
   "source": [
    "3. Working with DataFrames"
   ]
  },
  {
   "cell_type": "code",
   "execution_count": 165,
   "metadata": {},
   "outputs": [],
   "source": [
    "# a. Load Data and Show Schema\n",
    "name = sqlContext.read.csv(\"D:/school/Masters Data Science/Spring 2020/DSC650_Big Data/baby-names/baby-names/baby-names.csv\",header=True)"
   ]
  },
  {
   "cell_type": "code",
   "execution_count": 39,
   "metadata": {
    "scrolled": true
   },
   "outputs": [
    {
     "name": "stdout",
     "output_type": "stream",
     "text": [
      "root\n",
      " |-- state: string (nullable = true)\n",
      " |-- sex: string (nullable = true)\n",
      " |-- year: string (nullable = true)\n",
      " |-- name: string (nullable = true)\n",
      " |-- count: string (nullable = true)\n",
      "\n"
     ]
    }
   ],
   "source": [
    "# a. Load Data and Show Schema\n",
    "name.printSchema()"
   ]
  },
  {
   "cell_type": "code",
   "execution_count": 166,
   "metadata": {
    "scrolled": true
   },
   "outputs": [
    {
     "name": "stdout",
     "output_type": "stream",
     "text": [
      "+-----+---+----+---------+-----+\n",
      "|state|sex|year|     name|count|\n",
      "+-----+---+----+---------+-----+\n",
      "|   AK|  F|1910|     Mary|   14|\n",
      "|   AK|  F|1910|    Annie|   12|\n",
      "|   AK|  F|1910|     Anna|   10|\n",
      "|   AK|  F|1910| Margaret|    8|\n",
      "|   AK|  F|1910|    Helen|    7|\n",
      "|   AK|  F|1910|    Elsie|    6|\n",
      "|   AK|  F|1910|     Lucy|    6|\n",
      "|   AK|  F|1910|  Dorothy|    5|\n",
      "|   AK|  F|1911|     Mary|   12|\n",
      "|   AK|  F|1911| Margaret|    7|\n",
      "|   AK|  F|1911|     Ruth|    7|\n",
      "|   AK|  F|1911|    Annie|    6|\n",
      "|   AK|  F|1911|Elizabeth|    6|\n",
      "|   AK|  F|1911|    Helen|    6|\n",
      "|   AK|  F|1912|     Mary|    9|\n",
      "|   AK|  F|1912|    Elsie|    8|\n",
      "|   AK|  F|1912|    Agnes|    7|\n",
      "|   AK|  F|1912|     Anna|    7|\n",
      "|   AK|  F|1912|    Helen|    7|\n",
      "|   AK|  F|1912|   Louise|    7|\n",
      "+-----+---+----+---------+-----+\n",
      "only showing top 20 rows\n",
      "\n"
     ]
    }
   ],
   "source": [
    "name.show(20)"
   ]
  },
  {
   "cell_type": "code",
   "execution_count": 40,
   "metadata": {},
   "outputs": [
    {
     "data": {
      "text/plain": [
       "5933561"
      ]
     },
     "execution_count": 40,
     "metadata": {},
     "output_type": "execute_result"
    }
   ],
   "source": [
    "name.count()"
   ]
  },
  {
   "cell_type": "code",
   "execution_count": 169,
   "metadata": {},
   "outputs": [
    {
     "name": "stdout",
     "output_type": "stream",
     "text": [
      "+-----+---+----+----+-----+\n",
      "|state|sex|year|name|count|\n",
      "+-----+---+----+----+-----+\n",
      "|   AK|  M|1910|John|    8|\n",
      "|   AK|  M|1911|John|   15|\n",
      "|   AK|  M|1912|John|   16|\n",
      "|   AK|  M|1913|John|   19|\n",
      "|   AK|  M|1914|John|   17|\n",
      "|   AK|  M|1915|John|   21|\n",
      "|   AK|  M|1916|John|   25|\n",
      "|   AK|  M|1917|John|   26|\n",
      "|   AK|  M|1918|John|   23|\n",
      "|   AK|  M|1919|John|   24|\n",
      "|   AK|  M|1920|John|   21|\n",
      "|   AK|  M|1921|John|   35|\n",
      "|   AK|  M|1922|John|   21|\n",
      "|   AK|  M|1923|John|   27|\n",
      "|   AK|  M|1924|John|   36|\n",
      "|   AK|  M|1925|John|   33|\n",
      "|   AK|  M|1926|John|   26|\n",
      "|   AK|  M|1927|John|   22|\n",
      "|   AK|  M|1928|John|   28|\n",
      "|   AK|  M|1929|John|   22|\n",
      "+-----+---+----+----+-----+\n",
      "only showing top 20 rows\n",
      "\n"
     ]
    }
   ],
   "source": [
    "# b. Filtering and Counting\n",
    "filtName = name.where(f.col(\"name\").isin({\"John\"}))\n",
    "filtName.show()"
   ]
  },
  {
   "cell_type": "code",
   "execution_count": 46,
   "metadata": {},
   "outputs": [
    {
     "data": {
      "text/plain": [
       "7018"
      ]
     },
     "execution_count": 46,
     "metadata": {},
     "output_type": "execute_result"
    }
   ],
   "source": [
    "# b. Filtering and Counting\n",
    "filtName.count()"
   ]
  },
  {
   "cell_type": "code",
   "execution_count": 212,
   "metadata": {},
   "outputs": [
    {
     "name": "stdout",
     "output_type": "stream",
     "text": [
      "+-----+---+----+----------+-----+\n",
      "|state|sex|year|      name|count|\n",
      "+-----+---+----+----------+-----+\n",
      "|   NE|  M|1980|   Patrick|   99|\n",
      "|   NE|  M|1980|     Jesse|   97|\n",
      "|   NE|  M|1980|      Kyle|   93|\n",
      "|   NE|  M|1980|   Bradley|   90|\n",
      "|   NE|  M|1980|     Caleb|    9|\n",
      "|   NE|  M|1980|    Johnny|    9|\n",
      "|   NE|  M|1980|     Jerod|    9|\n",
      "|   NE|  M|1980|     Billy|    9|\n",
      "|   NE|  M|1980|Kristopher|    9|\n",
      "|   NE|  M|1980|     Logan|    9|\n",
      "+-----+---+----+----------+-----+\n",
      "only showing top 10 rows\n",
      "\n"
     ]
    }
   ],
   "source": [
    "# c. Sorting and Limits\n",
    "bigFilt = name.where(f.col(\"sex\").isin({\"M\"})).where(f.col(\"state\").isin({\"NE\"})).where(f.col(\"year\").isin({1980}))\n",
    "bigFilt.sort(desc(\"count\")).show(10)"
   ]
  },
  {
   "cell_type": "code",
   "execution_count": 216,
   "metadata": {},
   "outputs": [
    {
     "name": "stdout",
     "output_type": "stream",
     "text": [
      "+-----+---+----+----------+-----+\n",
      "|state|sex|year|      name|count|\n",
      "+-----+---+----+----------+-----+\n",
      "|   NE|  M|1980|   Patrick|   99|\n",
      "|   NE|  M|1980|     Jesse|   97|\n",
      "|   NE|  M|1980|      Kyle|   93|\n",
      "|   NE|  M|1980|   Bradley|   90|\n",
      "|   NE|  M|1980|     Caleb|    9|\n",
      "|   NE|  M|1980|    Johnny|    9|\n",
      "|   NE|  M|1980|     Jerod|    9|\n",
      "|   NE|  M|1980|     Billy|    9|\n",
      "|   NE|  M|1980|Kristopher|    9|\n",
      "|   NE|  M|1980|     Logan|    9|\n",
      "+-----+---+----+----------+-----+\n",
      "only showing top 10 rows\n",
      "\n"
     ]
    }
   ],
   "source": [
    "# c. Sorting and Limits\n",
    "bigFilt.orderBy(bigFilt['count'].desc()).show(10)"
   ]
  }
 ],
 "metadata": {
  "kernelspec": {
   "display_name": "Python 3",
   "language": "python",
   "name": "python3"
  },
  "language_info": {
   "codemirror_mode": {
    "name": "ipython",
    "version": 3
   },
   "file_extension": ".py",
   "mimetype": "text/x-python",
   "name": "python",
   "nbconvert_exporter": "python",
   "pygments_lexer": "ipython3",
   "version": "3.7.6"
  }
 },
 "nbformat": 4,
 "nbformat_minor": 4
}
